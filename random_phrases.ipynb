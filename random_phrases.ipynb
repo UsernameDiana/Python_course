{
 "cells": [
  {
   "cell_type": "code",
   "execution_count": 1,
   "metadata": {},
   "outputs": [
    {
     "name": "stdout",
     "output_type": "stream",
     "text": [
      "Adamant level\n",
      "Antic government\n",
      "corrosive back\n",
      "Antic research\n",
      "deadly school\n",
      "Adamant community\n",
      "Cerulean room\n",
      "Caustic kid\n",
      "Cerulean face\n"
     ]
    }
   ],
   "source": [
    "import random\n",
    "\n",
    "adjective = ['Adamant', 'unyielding', 'a very hard substance', 'Adroit', 'clever', \n",
    "          'resourceful', 'Amatory', 'sexual', 'Animistic', 'Antic', 'clownish', \n",
    "          'frolicsome', 'Arcadian', 'serene', 'Baleful', 'deadly', 'foreboding',\n",
    "          'Bellicose', 'quarrelsome', 'Bilious', 'unpleasant', 'peevish',\n",
    "          'Boorish', 'crude', 'insensitive', 'Calamitous', 'disastrous',\n",
    "          'Caustic', 'corrosive', 'sarcastic', 'Cerulean', 'sky blue',]\n",
    "\n",
    "noun = [\"time\", \"year\", \"people\", \"way\", \"day\", \"man\", \"thing\", \"woman\",\n",
    "        \"life\", \"child\", \"world\", \"school\", \"state\", \"family\", \"student\", \n",
    "        \"group\", \"country\", \"problem\", \"hand\", \"part\", \"place\", \"case\", \n",
    "        \"week\", \"company\", \"system\", \"program\", \"question\", \"work\", \n",
    "        \"government\", \"number\", \"night\", \"point\", \"home\", \"water\", \"room\", \n",
    "        \"mother\", \"area\", \"money\", \"story\", \"fact\", \"month\", \"lot\", \"right\", \n",
    "        \"study\", \"book\", \"eye\", \"job\", \"word\", \"business\", \"issue\", \"side\", \n",
    "        \"kind\", \"head\", \"house\", \"service\", \"friend\", \"father\", \"power\", \n",
    "        \"hour\", \"game\", \"line\", \"end\", \"member\", \"law\", \"car\", \"city\", \n",
    "        \"community\", \"name\", \"president\", \"team\", \"minute\", \"idea\", \"kid\", \n",
    "        \"body\", \"information\", \"back\", \"parent\", \"face\", \"others\", \"level\", \n",
    "        \"office\", \"door\", \"health\", \"person\", \"art\", \"war\", \"history\", \n",
    "        \"party\", \"result\", \"change\", \"morning\", \"reason\", \"research\", \"girl\", \n",
    "        \"guy\", \"moment\", \"air\", \"teacher\", \"force\", \"education\"]\n",
    "\n",
    "\n",
    "for i in range(1,10):\n",
    "    randomAdj = random.choice(adjective)\n",
    "    randomNoun = random.choice(noun)\n",
    "    print((' ').join([randomAdj, randomNoun]))"
   ]
  }
 ],
 "metadata": {
  "kernelspec": {
   "display_name": "Python 3",
   "language": "python",
   "name": "python3"
  },
  "language_info": {
   "codemirror_mode": {
    "name": "ipython",
    "version": 3
   },
   "file_extension": ".py",
   "mimetype": "text/x-python",
   "name": "python",
   "nbconvert_exporter": "python",
   "pygments_lexer": "ipython3",
   "version": "3.4.3"
  }
 },
 "nbformat": 4,
 "nbformat_minor": 2
}
